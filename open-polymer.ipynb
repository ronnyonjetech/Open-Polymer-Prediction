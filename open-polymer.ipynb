{
 "cells": [
  {
   "cell_type": "markdown",
   "id": "13509146",
   "metadata": {},
   "source": [
    "Test the notebook"
   ]
  },
  {
   "cell_type": "code",
   "execution_count": null,
   "id": "91f52ea0",
   "metadata": {
    "vscode": {
     "languageId": "plaintext"
    }
   },
   "outputs": [],
   "source": []
  }
 ],
 "metadata": {
  "language_info": {
   "name": "python"
  }
 },
 "nbformat": 4,
 "nbformat_minor": 5
}
